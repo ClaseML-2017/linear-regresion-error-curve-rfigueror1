{
 "cells": [
  {
   "cell_type": "code",
   "execution_count": 2,
   "metadata": {
    "collapsed": true
   },
   "outputs": [],
   "source": [
    "#Ricardo Figueroa CU 112714\n",
    "import pandas as pd\n",
    "import numpy as np\n",
    "import random as rd\n",
    "import matplotlib.pyplot as plt\n",
    "from sklearn.model_selection import train_test_split\n",
    "from sklearn.metrics import confusion_matrix, mean_squared_error, r2_score\n",
    "from scipy.stats import norm\n",
    "from sklearn import preprocessing, linear_model\n",
    "from random import random\n",
    "import requests\n",
    "import csv\n",
    "from sklearn.naive_bayes import MultinomialNB"
   ]
  },
  {
   "cell_type": "code",
   "execution_count": 3,
   "metadata": {
    "collapsed": true
   },
   "outputs": [],
   "source": [
    "#se leen datos del repositorio\n",
    "CSV_URL = 'https://raw.githubusercontent.com/ClaseML-2017/MaterialyTareas/master/datos/regLin.csv'\n",
    "with requests.Session() as s:\n",
    "    download = s.get(CSV_URL)\n",
    "    decoded_content = download.content.decode('utf-8')\n",
    "    cr = csv.reader(decoded_content.splitlines(), delimiter=',')\n",
    "    my_list = list(cr)"
   ]
  },
  {
   "cell_type": "code",
   "execution_count": 4,
   "metadata": {
    "collapsed": true
   },
   "outputs": [],
   "source": [
    "#se incluyen los datos en data frame y se transforman en float\n",
    "x = np.array([row[0] for row in my_list])\n",
    "y = np.array([row[1] for row in my_list])\n",
    "d = {'x' : x[1:], 'y' : y[1:]}\n",
    "df = pd.DataFrame(d)\n",
    "df = df.astype(float)"
   ]
  },
  {
   "cell_type": "code",
   "execution_count": 5,
   "metadata": {
    "collapsed": true
   },
   "outputs": [],
   "source": [
    "index=np.array([1 if random() < 0.75 else 0 for i in range(len(df))])"
   ]
  },
  {
   "cell_type": "code",
   "execution_count": 6,
   "metadata": {
    "collapsed": true
   },
   "outputs": [],
   "source": [
    "#se incluyen las variables en arreglos independientes, es necesario un reshape para que los datos puedan ser leidos por el fit\n",
    "X_train=np.array(df[df.columns[0]])[index==1]\n",
    "X_test=np.array(df[df.columns[0]])[index==0]\n",
    "Y_train=np.array(df[df.columns[1]])[index==1]\n",
    "Y_test=np.array(df[df.columns[1]])[index==0]\n",
    "X_train=X_train.reshape(-1,1)\n",
    "X_test=X_test.reshape(-1,1)\n",
    "Y_train=Y_train.reshape(-1,1)\n",
    "Y_test=Y_test.reshape(-1,1)\n",
    "X_test2 = X_test"
   ]
  },
  {
   "cell_type": "code",
   "execution_count": 8,
   "metadata": {},
   "outputs": [],
   "source": [
    "#se declara la regresion, se ajustan los datos al modelo y se hacen predicciones\n",
    "regr = linear_model.LinearRegression()\n",
    "regr.fit(X_train, Y_train)\n",
    "Y_predict = regr.predict(X_test)"
   ]
  },
  {
   "cell_type": "code",
   "execution_count": 12,
   "metadata": {},
   "outputs": [],
   "source": [
    "def SumaErrorCuad(YpredArray, Yarray):\n",
    "    SumError = 0\n",
    "    for i in range(0, len(YpredArray)):\n",
    "        SumError = SumError + ((YpredArray[i]-Yarray[i])**2)\n",
    "    return SumError"
   ]
  },
  {
   "cell_type": "code",
   "execution_count": null,
   "metadata": {
    "collapsed": true
   },
   "outputs": [],
   "source": []
  },
  {
   "cell_type": "code",
   "execution_count": null,
   "metadata": {
    "collapsed": true
   },
   "outputs": [],
   "source": []
  },
  {
   "cell_type": "code",
   "execution_count": null,
   "metadata": {
    "collapsed": true
   },
   "outputs": [],
   "source": []
  },
  {
   "cell_type": "code",
   "execution_count": 19,
   "metadata": {},
   "outputs": [
    {
     "name": "stdout",
     "output_type": "stream",
     "text": [
      "('Coefficients: \\n', array([[ 0.60690708]]), array([ 2.51791141]))\n",
      "Mean squared error: 20.59\n",
      "Variance score: 0.94\n"
     ]
    }
   ],
   "source": [
    "#Coeficientes\n",
    "# The coefficients\n",
    "print('Coefficients: \\n', regr.coef_, regr.intercept_)\n",
    "# The mean squared error\n",
    "intercept = regr.intercept_\n",
    "print(\"Mean squared error: %.2f\"\n",
    "      % mean_squared_error(Y_test, Y_predict, multioutput='raw_values'))\n",
    "# Explained variance score: 1 is perfect prediction\n",
    "print('Variance score: %.2f' % r2_score(Y_test, Y_predict))"
   ]
  },
  {
   "cell_type": "code",
   "execution_count": 9,
   "metadata": {
    "scrolled": true
   },
   "outputs": [
    {
     "data": {
      "image/png": "[encoded data removed]",
      "text/plain": [
       "<matplotlib.figure.Figure at 0x7ff2f694cb50>"
      ]
     },
     "metadata": {},
     "output_type": "display_data"
    }
   ],
   "source": [
    "#graficas de modelo de regresion\n",
    "plt.scatter(X_test, Y_test,  color='black')\n",
    "plt.plot(X_test, Y_predict, color='blue', linewidth=3)\n",
    "plt.show()"
   ]
  },
  {
   "cell_type": "code",
   "execution_count": 20,
   "metadata": {},
   "outputs": [
    {
     "data": {
      "image/png": "[encoded data removed]",
      "text/plain": [
       "<matplotlib.figure.Figure at 0x7ff2f698b450>"
      ]
     },
     "metadata": {},
     "output_type": "display_data"
    }
   ],
   "source": [
    "#graficas de error vs. coeficiente\n",
    "error_array = []\n",
    "b_array = []\n",
    "for i in range(len(X_test2)):\n",
    "    b = rd.uniform(0,1)\n",
    "    y = b*X_test2 + intercept\n",
    "    error_array.append(mean_squared_error(y, Y_predict, multioutput='raw_values'))\n",
    "    b_array.append(b)\n",
    "plt.scatter(b_array, error_array, color='blue', linewidth=3)\n",
    "plt.show()"
   ]
  }
 ],
 "metadata": {
  "kernelspec": {
   "display_name": "Python 2",
   "language": "python",
   "name": "python2"
  },
  "language_info": {
   "codemirror_mode": {
    "name": "ipython",
    "version": 2
   },
   "file_extension": ".py",
   "mimetype": "text/x-python",
   "name": "python",
   "nbconvert_exporter": "python",
   "pygments_lexer": "ipython2",
   "version": "2.7.12"
  }
 },
 "nbformat": 4,
 "nbformat_minor": 2
}
